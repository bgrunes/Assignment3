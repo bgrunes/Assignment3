{
 "cells": [
  {
   "cell_type": "code",
   "execution_count": 1,
   "metadata": {},
   "outputs": [],
   "source": [
    "import numpy as np\n",
    "from sklearn import linear_model\n",
    "from sklearn.model_selection import train_test_split, cross_val_score\n",
    "from sklearn.svm import SVC\n",
    "from sklearn.neural_network import MLPClassifier, MLPRegressor\n",
    "from sklearn.neighbors import KNeighborsClassifier\n",
    "from sklearn.neighbors import KNeighborsRegressor\n",
    "from sklearn.preprocessing import StandardScaler\n",
    "from sklearn.utils import resample\n",
    "from sklearn.pipeline import Pipeline\n",
    "from sklearn.metrics import accuracy_score, confusion_matrix, ConfusionMatrixDisplay, classification_report, mean_absolute_error, \\\n",
    "    mean_squared_error, r2_score\n",
    "from sklearn.multioutput import MultiOutputRegressor\n",
    "from math import floor, ceil"
   ]
  },
  {
   "cell_type": "markdown",
   "metadata": {},
   "source": [
    "# Classifiers for the Single Label Optimal Play"
   ]
  },
  {
   "cell_type": "code",
   "execution_count": 2,
   "metadata": {},
   "outputs": [],
   "source": [
    "# Setup to train learning models\n",
    "A = np.loadtxt('tictac_single.txt')\n",
    "X_single = A[:, :9]  # Input features\n",
    "y_single = A[:, 9:].ravel()  # Output labels\n",
    "\n",
    "# X is a 3x3 grid for tictactoe. It should go like this:\n",
    "#   x0  |   x1  |   x2\n",
    "#   x3  |   x4  |   x5\n",
    "#   x6  |   x7  |   x8\n",
    "\n",
    "# Y gives the output of the game (the winner)\n",
    "\n",
    "X_train, X_test, y_train, y_test = train_test_split(X_single, y_single, \n",
    "                                                                    test_size=0.2, random_state=42, \n",
    "                                                                    stratify=y_single)\n",
    "\n",
    "# LETS DOWNSIZE\n",
    "\n",
    "downsampled_X_train, downsampled_y_train = resample(X_train, y_train, \n",
    "                                                                     replace=False, n_samples=2000, \n",
    "                                                                     random_state=42)"
   ]
  },
  {
   "cell_type": "markdown",
   "metadata": {},
   "source": [
    "SVM Model"
   ]
  },
  {
   "cell_type": "code",
   "execution_count": null,
   "metadata": {},
   "outputs": [
    {
     "name": "stdout",
     "output_type": "stream",
     "text": [
      "*****************Linear SVM - Single*****************\n",
      "Accuracy: 0.4652936689549962\n"
     ]
    }
   ],
   "source": [
    "# **************SVM Model******************* single.txt\n",
    "# scaler = StandardScaler()\n",
    "# X_std = scaler.fit_transform(X_train)\n",
    "# X_test_std = scaler.transform(X_test)\n",
    "\n",
    "# svm_clf_single = LinearSVC(C=100.0, dual=True, max_iter=100000) # Accuracy of 25%\n",
    "svm_clf_single = SVC(kernel='linear', C=100.0) # Accuracy of 46.52%\n",
    "svm_clf_single.fit(downsampled_X_train, downsampled_y_train)\n",
    "\n",
    "svm_y_pred = svm_clf_single.predict(X_test)\n",
    "svm_accuracy = accuracy_score(y_test, svm_y_pred)\n",
    "svm_cm = confusion_matrix(y_test, svm_y_pred)\n",
    "disp = ConfusionMatrixDisplay(confusion_matrix=svm_cm)\n",
    "ax = disp.plot().ax_\n",
    "\n",
    "disp.ax_.set_xlabel('Predicted', fontsize=12)\n",
    "disp.ax_.set_ylabel('True', fontsize=12)\n",
    "disp.ax_.set_title('Confusion Matrix', fontsize=15)\n",
    "\n",
    "print(\"*****************Linear SVM - Single*****************\")\n",
    "print(f'Accuracy: {svm_accuracy}')\n",
    "#print('Confusion Matrix:')\n",
    "#print(svm_cm)\n",
    "\n",
    "svm_scores = cross_val_score(svm_clf_single, X_single, y_single, cv=10)\n",
    "print(f'Cross-Validation Accuracy: {svm_scores.mean()}\\n')"
   ]
  },
  {
   "cell_type": "markdown",
   "metadata": {},
   "source": [
    "Multilayer Perceptron Model"
   ]
  },
  {
   "cell_type": "code",
   "execution_count": null,
   "metadata": {},
   "outputs": [],
   "source": [
    "# ********************MLP Model**************************** single.txt\n",
    "\n",
    "mlp_clf_single = MLPClassifier(hidden_layer_sizes=(1024, 512, 128, 64, 32), max_iter=1900, random_state=42)\n",
    "\n",
    "# Train the model\n",
    "mlp_clf_single.fit(X_train, y_train)\n",
    "\n",
    "mlp_y_pred = mlp_clf_single.predict(X_test)\n",
    "mlp_accuracy = accuracy_score(y_test, mlp_y_pred)\n",
    "mlp_cm = confusion_matrix(y_test, mlp_y_pred)\n",
    "\n",
    "print(\"*****************MLP Model - Single*****************\")\n",
    "print(f'Accuracy: {mlp_accuracy}')\n",
    "print('Confusion Matrix:')\n",
    "print(mlp_cm)\n",
    "\n",
    "mlp_scores = cross_val_score(mlp_clf_single, X_single, y_single, cv=10)\n",
    "print(f'Cross-Validation Accuracy: {mlp_scores.mean()}\\n')"
   ]
  },
  {
   "cell_type": "markdown",
   "metadata": {},
   "source": [
    "K-Nearest Neighbors Model"
   ]
  },
  {
   "cell_type": "code",
   "execution_count": null,
   "metadata": {},
   "outputs": [],
   "source": [
    "# *****************KNN Model************************* single.txt\n",
    "# Instantiate the kNN classifier with a specific value of k\n",
    "knn_clf_single = KNeighborsClassifier(n_neighbors=18, metric='euclidean', weights='distance')  # Adjust the value of n_neighbors and metric as needed\n",
    "# Standardize the feature values\n",
    "scaler = StandardScaler()\n",
    "X_scaled = scaler.fit_transform(X_single)\n",
    "\n",
    "# Split the scaled data into training and testing sets\n",
    "X_train, X_test, y_train, y_test = train_test_split(X_scaled, y_single, test_size=0.2, random_state=42)\n",
    "\n",
    "# Train the Model\n",
    "knn_clf_single.fit(X_train, y_train)\n",
    "y_pred = knn_clf_single.predict(X_test)\n",
    "\n",
    "print(\"*****************KNN Model - Single*****************\")\n",
    "\n",
    "# Evaluate the model's performance\n",
    "accuracy = accuracy_score(y_test, y_pred)\n",
    "\n",
    "print(f'Accuracy: {accuracy}')\n",
    "\n",
    "# Print classification report\n",
    "#print(classification_report(y_test, y_pred))\n",
    "\n",
    "# Print confusion matrix\n",
    "#print(confusion_matrix(y_test, y_pred))\n",
    "\n",
    "print(f'Cross-validation Accuracy: {cross_val_score(knn_clf_single, X_single, y_single, cv=10).mean()}')"
   ]
  },
  {
   "cell_type": "markdown",
   "metadata": {},
   "source": [
    "# Classifiers for the Final Boards"
   ]
  },
  {
   "cell_type": "code",
   "execution_count": null,
   "metadata": {},
   "outputs": [],
   "source": [
    "# Setup to train learning models **************** 2nd dataset\n",
    "A = np.loadtxt('tictac_final.txt')\n",
    "X_final = A[:, :9]   # Input features\n",
    "y_final = A[:, 9:].ravel()   # Output labels\n",
    "\n",
    "X_train, X_test, y_train, y_test = train_test_split(X_final, y_final, test_size=0.2, random_state=42, stratify=y_final)"
   ]
  },
  {
   "cell_type": "markdown",
   "metadata": {},
   "source": [
    "SVM Model"
   ]
  },
  {
   "cell_type": "code",
   "execution_count": null,
   "metadata": {},
   "outputs": [],
   "source": [
    "# **************SVM Model******************* final.txt\n",
    "svm_clf_final = SVC(kernel='linear', C=0.1)\n",
    "svm_clf_final.fit(X_train, y_train)\n",
    "\n",
    "svm_y_pred = svm_clf_final.predict(X_test)\n",
    "svm_accuracy = accuracy_score(y_test, svm_y_pred)\n",
    "svm_cm = confusion_matrix(y_test, svm_y_pred)\n",
    "\n",
    "print(\"*****************SVM Model - Final*****************\")\n",
    "print(f'Accuracy: {svm_accuracy}')\n",
    "print('Confusion Matrix:')\n",
    "print(svm_cm)\n",
    "\n",
    "svm_scores = cross_val_score(svm_clf_final, X_final, y_final, cv=10)\n",
    "print(f'Cross-Validation Accuracy: {svm_scores.mean()}\\n')"
   ]
  },
  {
   "cell_type": "markdown",
   "metadata": {},
   "source": [
    "Multilayer Perceptron Model"
   ]
  },
  {
   "cell_type": "code",
   "execution_count": null,
   "metadata": {},
   "outputs": [],
   "source": [
    "# ********************MLP Model**************************** final.txt\n",
    "mlp_clf_final = MLPClassifier(hidden_layer_sizes=(1024, 512, 128, 64, 32), max_iter=2000, random_state=42)\n",
    "\n",
    "# Train the model\n",
    "mlp_clf_final.fit(X_train, y_train)\n",
    "\n",
    "mlp_y_pred = mlp_clf_final.predict(X_test)\n",
    "mlp_accuracy = accuracy_score(y_test, mlp_y_pred)\n",
    "mlp_cm = confusion_matrix(y_test, mlp_y_pred)\n",
    "\n",
    "print(\"*****************MLP Model - Final*****************\")\n",
    "print(f'Accuracy: {mlp_accuracy}')\n",
    "print('Confusion Matrix:')\n",
    "print(mlp_cm)\n",
    "\n",
    "mlp_scores = cross_val_score(mlp_clf_final, X_final, y_final, cv=10)\n",
    "print(f'Cross-Validation Accuracy: {mlp_scores.mean()}\\n')"
   ]
  },
  {
   "cell_type": "markdown",
   "metadata": {},
   "source": [
    "K-Nearest Neighbors Model"
   ]
  },
  {
   "cell_type": "code",
   "execution_count": null,
   "metadata": {},
   "outputs": [],
   "source": [
    "# *****************KNN Model************************* final.txt\n",
    "# Instantiate the kNN classifier with a specific value of k\n",
    "knn_clf_final = KNeighborsClassifier(n_neighbors=4, metric='euclidean', weights='distance')  # Adjust the value of n_neighbors and metric as needed\n",
    "# # Standardize the feature values\n",
    "# scaler = StandardScaler()\n",
    "# X_scaled = scaler.fit_transform(X_final)\n",
    "\n",
    "# # Split the scaled data into training and testing sets\n",
    "# X_train, X_test, y_train, y_test = train_test_split(X_scaled, y_final, test_size=0.2, random_state=42)\n",
    "\n",
    "# Train the Model\n",
    "knn_clf_final.fit(X_train, y_train)\n",
    "y_pred = knn_clf_final.predict(X_test)\n",
    "\n",
    "print(\"*****************KNN Model - Final*****************\")\n",
    "\n",
    "# Evaluate the model's performance\n",
    "accuracy = accuracy_score(y_test, y_pred)\n",
    "print(f'Accuracy: {accuracy}')\n",
    "\n",
    "# Print classification report\n",
    "# print(classification_report(y_test, y_pred))\n",
    "\n",
    "# Print confusion matrix\n",
    "print(f'Confusion Matrix:\\n {confusion_matrix(y_test, y_pred)}')\n",
    "\n",
    "knn_scores = cross_val_score(knn_clf_final, X_final, y_final, cv=10)\n",
    "print(f'Cross-Validation Accuracy: {knn_scores.mean()}\\n')"
   ]
  },
  {
   "cell_type": "markdown",
   "metadata": {},
   "source": [
    "# Regression Models for the Multi Label Optimal Play"
   ]
  },
  {
   "cell_type": "code",
   "execution_count": null,
   "metadata": {},
   "outputs": [],
   "source": [
    "# *****************Regression Models*****************\n",
    "\n",
    "# Load tictac_multi.txt and put inputs and outputs into X and y\n",
    "A = np.loadtxt('tictac_multi.txt')\n",
    "X_multi = A[:, :9]   # Input features\n",
    "y_multi = A[:, 9:]   # Output labels\n",
    "\n",
    "print(X_multi)\n",
    "print(y_multi)\n",
    "\n",
    "# Split the data\n",
    "X_train, X_test, y_train, y_test = train_test_split(X_multi, y_multi, test_size=0.2, random_state=42)"
   ]
  },
  {
   "cell_type": "markdown",
   "metadata": {},
   "source": [
    "Linear Regression"
   ]
  },
  {
   "cell_type": "code",
   "execution_count": null,
   "metadata": {},
   "outputs": [],
   "source": [
    "# *****************Linear Regression*****************\n",
    "\n",
    "# Select Linear Regression model\n",
    "linReg_clf = linear_model.LinearRegression()\n",
    "\n",
    "multiOut = MultiOutputRegressor(linReg_clf)\n",
    "multiOut.fit(X_train, y_train)\n",
    "\n",
    "y_pred = multiOut.predict(X_test)\n",
    "# y_pred = np.array([[1 if value >= 0.5 else 0 for value in row] for row in y_pred])\n",
    "\n",
    "print(y_pred)\n",
    "\n",
    "mae = mean_absolute_error(y_test, y_pred)\n",
    "mse = mean_squared_error(y_test, y_pred)\n",
    "r2 = r2_score(y_test, y_pred)\n",
    "\n",
    "# Print results\n",
    "print(\"*****************Linear Regression Model*****************\")\n",
    "print(f\"Mean Absolute Error: {mae}\")\n",
    "print(f\"Mean Squared Error: {mse}\")\n",
    "print(f\"R-squared: {r2}\")"
   ]
  },
  {
   "cell_type": "markdown",
   "metadata": {},
   "source": [
    "Multilayer Perceptron Regression"
   ]
  },
  {
   "cell_type": "code",
   "execution_count": null,
   "metadata": {},
   "outputs": [],
   "source": [
    "# *****************MLP Regression Model*****************\n",
    "\n",
    "# Select MLP Regressor\n",
    "mlpr_clf = MLPRegressor(hidden_layer_sizes=(1024, 128, 64, 32), max_iter=1200, random_state=42)\n",
    "\n",
    "# Fit the model to training data\n",
    "mlpr_clf.fit(X_train, y_train)\n",
    "\n",
    "# Make prediction\n",
    "y_pred = mlpr_clf.predict(X_test)\n",
    "\n",
    "# Evaluate\n",
    "mae = mean_absolute_error(y_test, y_pred)\n",
    "mse = mean_squared_error(y_test, y_pred)\n",
    "r2 = r2_score(y_test, y_pred)\n",
    "\n",
    "# Print results\n",
    "print(\"*****************MLP Regression Model*****************\")\n",
    "print(f\"Mean Absolute Error: {mae}\")\n",
    "print(f\"Mean Squared Error: {mse}\")\n",
    "print(f\"R-squared: {r2}\\n\")"
   ]
  },
  {
   "cell_type": "markdown",
   "metadata": {},
   "source": [
    "K-Nearest Neighbors"
   ]
  },
  {
   "cell_type": "code",
   "execution_count": null,
   "metadata": {},
   "outputs": [],
   "source": [
    "# *****************K-Nearest Neighbors Regression*****************\n",
    "\n",
    "# Select KNN Regression model\n",
    "knnr_clf = KNeighborsRegressor(n_neighbors=17, weights='distance')\n",
    "\n",
    "# Fit training data\n",
    "knnr_clf.fit(X_train, y_train)\n",
    "\n",
    "# Make a prediction\n",
    "y_pred = knnr_clf.predict(X_test)\n",
    "\n",
    "# Evaluate\n",
    "mae = mean_absolute_error(y_test, y_pred)\n",
    "mse = mean_squared_error(y_test, y_pred)\n",
    "r2 = r2_score(y_test, y_pred)\n",
    "\n",
    "# Print results\n",
    "print(\"*****************KNN Regression Model*****************\")\n",
    "print(f\"Mean Absolute Error: {mae}\")\n",
    "print(f\"Mean Squared Error: {mse}\")\n",
    "print(f\"R-squared: {r2}\\n\")"
   ]
  },
  {
   "cell_type": "markdown",
   "metadata": {},
   "source": [
    "# TicTacToe Game"
   ]
  },
  {
   "cell_type": "code",
   "execution_count": null,
   "metadata": {},
   "outputs": [],
   "source": [
    "class TicTacToe:\n",
    "    def __init__(self, model):\n",
    "        self.board = [[' ' for _ in range(3)] for _ in range(3)]\n",
    "        self.current_player = 'X'\n",
    "        self.model = model\n",
    "\n",
    "    # Reset the board after game over. Board returns to 0 array\n",
    "    def reset(self):\n",
    "        self.board = [[' ' for _ in range(3)] for _ in range(3)]\n",
    "        self.current_player = 'X'\n",
    "\n",
    "    # Return true if (row, col) inputs are valid moves\n",
    "    def is_valid_move(self, row, col):\n",
    "        return 3 > row >= 0 and 0 <= col < 3 and self.board[row][col] == ' '\n",
    "\n",
    "    # Print the current state of the board\n",
    "    def print_board(self):\n",
    "        print(\"  0   1   2\")\n",
    "        for i, row in enumerate(self.board):\n",
    "            print(f'{i} {\" | \".join(row)}')\n",
    "            if i < 2:\n",
    "                print(' ' + '-' * 11)\n",
    "\n",
    "    # Check if move is valid, then input the move into the board\n",
    "    def make_move(self, row, col):\n",
    "        if self.is_valid_move(row, col):\n",
    "            self.board[row][col] = self.current_player\n",
    "            return True\n",
    "        return False\n",
    "\n",
    "    # If board is full return true, otherwise false\n",
    "    def is_board_full(self):\n",
    "        return all(all(cell != ' ' for cell in row) for row in self.board)\n",
    "\n",
    "    # Switch to next player\n",
    "    def switch_player(self):\n",
    "        self.current_player = 'O' if self.current_player == 'X' else 'X'\n",
    "\n",
    "    # Check to see who the winner is\n",
    "    def check_winner(self):\n",
    "        # Check rows, columns, and diagonals for a win\n",
    "        for i in range(3):\n",
    "            if self.board[i][0] == self.board[i][1] == self.board[i][2] != ' ':\n",
    "                return self.board[i][0]\n",
    "            if self.board[0][i] == self.board[1][i] == self.board[2][i] != ' ':\n",
    "                return self.board[0][i]\n",
    "\n",
    "        if self.board[0][0] == self.board[1][1] == self.board[2][2] != ' ':\n",
    "            return self.board[0][0]\n",
    "        if self.board[0][0] == self.board[1][1] == self.board[2][0] != ' ':\n",
    "            return self.board[0][2]\n",
    "\n",
    "        return None\n",
    "    \n",
    "    # Gameplay loop\n",
    "    def play_game(self):\n",
    "        while True:\n",
    "            print(f\"Player {self.current_player}'s turn\")\n",
    "            self.print_board()\n",
    "\n",
    "            if self.current_player == 'X':\n",
    "                while True:\n",
    "                    row = int(input('Enter row (0-2): '))\n",
    "                    col = int(input('Enter column (0-2): '))\n",
    "                    if self.make_move(row, col):\n",
    "                        break\n",
    "                \n",
    "                # Check for winner\n",
    "                winner = self.check_winner()\n",
    "                if winner:\n",
    "                    print(f\"Player {winner} wins!\")\n",
    "                    self.print_board()\n",
    "                    break\n",
    "                elif self.is_board_full():\n",
    "                    print(\"It's a draw!\")\n",
    "                    self.print_board()\n",
    "                    break\n",
    "                else:\n",
    "                    self.switch_player()\n",
    "            else:\n",
    "                while True:\n",
    "                    # Use trained model to predict 0's move\n",
    "                    board_state = np.array(self.board).flatten()\n",
    "                    board_state = np.where(board_state == 'X', 1, board_state)\n",
    "                    board_state = np.where(board_state == 'O', -1, board_state)\n",
    "                    board_state = np.where(board_state == ' ', 0, board_state)\n",
    "                    board_state = board_state.astype(int)\n",
    "                    \n",
    "                    # Try runs if the model is a classifier, otherwise except runs as regression\n",
    "                    try:\n",
    "                        move = int(self.model.predict([board_state])[0])\n",
    "                    # move = int(self.model.predict([board_state])[0])])\n",
    "                    except:  # we have an array and we want one prediction\n",
    "                        arr = (self.model.predict([board_state])[0])  # should be an array\n",
    "                        highestIndex = 0\n",
    "                        highestVal = 0\n",
    "                        for i in range(len(arr)):\n",
    "                            if arr[i] > highestVal:\n",
    "                                highestIndex = i\n",
    "                                highestVal = arr[i]\n",
    "                        print(highestIndex)\n",
    "                        move = highestIndex\n",
    "                    # move = self.model.predict( [ board_state[0], board_state[1] ] )\n",
    "                    print(f\"Board state: {board_state}\")\n",
    "                    print(f\"Predicted move: {move}\")\n",
    "\n",
    "                    row, col = divmod(move, 3)\n",
    "                    print(f\"Row, Col: {row}, {col}\")\n",
    "                    if not self.make_move(row, col):\n",
    "                        print(\"Unable to move\")\n",
    "                        continue\n",
    "                    else: \n",
    "                        break\n",
    "\n",
    "                # Check for winner\n",
    "                winner = self.check_winner()\n",
    "                if winner:\n",
    "                    print(f\"Player {winner} wins!\")\n",
    "                    self.print_board()\n",
    "                    break\n",
    "                elif self.is_board_full():\n",
    "                    print(\"It's a draw!\")\n",
    "                    self.print_board()\n",
    "                    break\n",
    "                else:\n",
    "                    self.switch_player()"
   ]
  },
  {
   "cell_type": "markdown",
   "metadata": {},
   "source": [
    "Main Function"
   ]
  },
  {
   "cell_type": "code",
   "execution_count": null,
   "metadata": {},
   "outputs": [],
   "source": [
    "if __name__ == '__main__':\n",
    "    while True:\n",
    "        print(\"TicTacToe Game\\n\")\n",
    "        print(\"Select Model\")\n",
    "        print(\"------------\")\n",
    "        print(\"1. Play\\n2. Exit\")\n",
    "        res = input(\"What do you want to do? \")\n",
    "\n",
    "        match res:\n",
    "            case \"1\":\n",
    "                game = TicTacToe(mlp_clf_single)\n",
    "                game.play_game()\n",
    "            case \"2\":\n",
    "                break\n",
    "        "
   ]
  },
  {
   "cell_type": "code",
   "execution_count": null,
   "metadata": {},
   "outputs": [],
   "source": []
  },
  {
   "cell_type": "code",
   "execution_count": null,
   "metadata": {},
   "outputs": [],
   "source": []
  }
 ],
 "metadata": {
  "kernelspec": {
   "display_name": "Python 3 (ipykernel)",
   "language": "python",
   "name": "python3"
  },
  "language_info": {
   "codemirror_mode": {
    "name": "ipython",
    "version": 3
   },
   "file_extension": ".py",
   "mimetype": "text/x-python",
   "name": "python",
   "nbconvert_exporter": "python",
   "pygments_lexer": "ipython3",
   "version": "3.11.5"
  }
 },
 "nbformat": 4,
 "nbformat_minor": 2
}
