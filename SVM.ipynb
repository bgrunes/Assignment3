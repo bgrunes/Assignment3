{
 "cells": [
  {
   "cell_type": "markdown",
   "metadata": {},
   "source": [
    "# Begin of Default Credit Card Classifier with SVM"
   ]
  },
  {
   "cell_type": "markdown",
   "metadata": {},
   "source": [
    "## Importing the necessary libraries"
   ]
  },
  {
   "cell_type": "code",
   "execution_count": null,
   "metadata": {},
   "outputs": [],
   "source": [
    "df.head() #Taking a look at our data"
   ]
  },
  {
   "cell_type": "code",
   "execution_count": null,
   "metadata": {},
   "outputs": [],
   "source": [
    "# Check each column dataType\n",
    "\n",
    "df.dtypes"
   ]
  },
  {
   "cell_type": "code",
   "execution_count": null,
   "metadata": {},
   "outputs": [],
   "source": [
    "len(df.loc[(df['EDUCATION'] == 0) | (df['MARRIAGE'] == 0)]) "
   ]
  },
  {
   "cell_type": "code",
   "execution_count": null,
   "metadata": {},
   "outputs": [],
   "source": [
    "df_no_missing['EDUCATION'].unique()"
   ]
  },
  {
   "cell_type": "code",
   "execution_count": null,
   "metadata": {},
   "outputs": [],
   "source": [
    "## split the data into 2\n",
    "## one with the columns default value == 0\n",
    "## and another one with the columns default value == 1\n",
    "df_not_default = df_no_missing[df_no_missing['DEFAULT'] == 0]\n",
    "df_default = df_no_missing[df_no_missing['DEFAULT'] == 1]"
   ]
  },
  {
   "cell_type": "markdown",
   "metadata": {},
   "source": [
    "## Format Data Part 1\n",
    "We have taken care of the missing data, so now we are ready to start formatting the data for making our Support Vector Machine (SVM)\n",
    "\n",
    "### We need two steps.\n",
    "\n",
    "First, split the data into two parts\n",
    "1. Columns data that we need to make our classifications (X) \n",
    "2. Columns data that we need to make our predicts (y) "
   ]
  },
  {
   "cell_type": "code",
   "execution_count": null,
   "metadata": {},
   "outputs": [],
   "source": [
    "## Visualisizing the One-Hot Encoder with get_dummies() from pandas\n",
    "## Now we have split the 'MARRIAGE' into 3 columns with the value only 0 and 1.\n",
    "\n",
    "X_encoded = pd.get_dummies(X, columns=['MARRIAGE'])\n",
    "X_encoded.head()"
   ]
  },
  {
   "cell_type": "markdown",
   "metadata": {},
   "source": [
    "## SVM TIME!\n",
    "\n",
    "Now, we have done manipulating, preparing, and formatting our data dor Support Vector Machine. So, let's do it!"
   ]
  },
  {
   "cell_type": "code",
   "execution_count": null,
   "metadata": {},
   "outputs": [],
   "source": [
    "param_grid = [\n",
    "    {'C': [0.5, 1, 10, 100], # NOTE: C > 0\n",
    "     'gamma': ['scale', 1, 0.1, 0.01, 0.001, 0.0001],\n",
    "     'kernel': ['rbf', 'linear', 'poly']},\n",
    "]\n",
    "\n",
    "optimal_params = GridSearchCV(SVC(),\n",
    "                             param_grid,\n",
    "                             cv=5, # n of folds cv\n",
    "                             scoring=\"accuracy\", #try f1, f1_micro -look for other ways to do scoring from documentation!!!\n",
    "                             verbose=0) # if we want to see what GridSearch is doin, set verbose=2\n",
    "optimal_params.fit(X_train_scaled, y_train)\n",
    "print(optimal_params.best_params_)"
   ]
  },
  {
   "cell_type": "markdown",
   "metadata": {},
   "source": [
    "Since we cannot draw 24 dimensions (or infinite dimensions becase we use this beautiful rbf) so we have to collapse the data into two dimensions so we can draw the output.\n",
    "\n",
    "We will use Principal Component Analysis (PCA) to shrink the dimensions into 2.\n",
    "\n",
    "Lets see what PCA does in next lecture! Thanks"
   ]
  }
 ],
 "metadata": {
  "kernelspec": {
   "display_name": "Python 3",
   "language": "python",
   "name": "python3"
  },
  "language_info": {
   "codemirror_mode": {
    "name": "ipython",
    "version": 3
   },
   "file_extension": ".py",
   "mimetype": "text/x-python",
   "name": "python",
   "nbconvert_exporter": "python",
   "pygments_lexer": "ipython3",
   "version": "3.8.6"
  }
 },
 "nbformat": 4,
 "nbformat_minor": 4
}
